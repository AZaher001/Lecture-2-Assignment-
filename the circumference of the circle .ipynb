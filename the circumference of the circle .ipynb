{
 "cells": [
  {
   "cell_type": "markdown",
   "metadata": {},
   "source": [
    "# the circumference of the circle "
   ]
  },
  {
   "cell_type": "code",
   "execution_count": 3,
   "metadata": {},
   "outputs": [
    {
     "name": "stdout",
     "output_type": "stream",
     "text": [
      "Enter the Radius of the circle = 10\n"
     ]
    }
   ],
   "source": [
    "i = 3.14   # pi\n",
    "Radius = int(input('Enter the Radius of the circle = '))"
   ]
  },
  {
   "cell_type": "code",
   "execution_count": 4,
   "metadata": {},
   "outputs": [
    {
     "name": "stdout",
     "output_type": "stream",
     "text": [
      "The circumfrenece of the circle =  62.800000000000004\n"
     ]
    }
   ],
   "source": [
    "circum_circle = 2 * i * Radius\n",
    "print('The circumfrenece of the circle = ' ,circum_circle)"
   ]
  },
  {
   "cell_type": "markdown",
   "metadata": {},
   "source": [
    "# the circumference of the rectangle \n"
   ]
  },
  {
   "cell_type": "code",
   "execution_count": 5,
   "metadata": {},
   "outputs": [
    {
     "name": "stdout",
     "output_type": "stream",
     "text": [
      "Enter the width of the rectangle = 5\n",
      "Enter the height of the rectangle = 7\n"
     ]
    }
   ],
   "source": [
    "width = int(input('Enter the width of the rectangle = '))\n",
    "height = int(input('Enter the height of the rectangle = '))"
   ]
  },
  {
   "cell_type": "code",
   "execution_count": 6,
   "metadata": {},
   "outputs": [
    {
     "name": "stdout",
     "output_type": "stream",
     "text": [
      "The circumfrenece of the rectangle =  12\n"
     ]
    }
   ],
   "source": [
    "circum_rectangle = width + height\n",
    "print('The circumfrenece of the rectangle = ',circum_rectangle)"
   ]
  },
  {
   "cell_type": "code",
   "execution_count": null,
   "metadata": {},
   "outputs": [],
   "source": []
  }
 ],
 "metadata": {
  "kernelspec": {
   "display_name": "Python 3",
   "language": "python",
   "name": "python3"
  },
  "language_info": {
   "codemirror_mode": {
    "name": "ipython",
    "version": 3
   },
   "file_extension": ".py",
   "mimetype": "text/x-python",
   "name": "python",
   "nbconvert_exporter": "python",
   "pygments_lexer": "ipython3",
   "version": "3.8.5"
  }
 },
 "nbformat": 4,
 "nbformat_minor": 4
}
